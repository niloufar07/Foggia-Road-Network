{
 "cells": [
  {
   "cell_type": "markdown",
   "metadata": {},
   "source": [
    "# Bridge Criticality Analysis\n",
    "\n",
    "This notebook documents the process of analyzing bridge criticality based on two key metrics:\n",
    "1. **Structural Vulnerability** (measured by functionality percentage)\n",
    "2. **Network Importance** (measured by global efficiency drop)\n",
    "\n",
    "We'll analyze bridges across multiple buffer distances (5km to 60km) to identify the most critical structures that have both low functionality and high impact on network efficiency."
   ]
  },
  {
   "cell_type": "markdown",
   "metadata": {},
   "source": [
    "## 1. Import Libraries and Load Data"
   ]
  },
  {
   "cell_type": "code",
   "execution_count": null,
   "metadata": {},
   "source": [
    "import pandas as pd\n",
    "import numpy as np\n",
    "import matplotlib.pyplot as plt\n",
    "import seaborn as sns\n",
    "from matplotlib.colors import LinearSegmentedColormap\n",
    "import os\n",
    "\n",
    "# Set plot style\n",
    "plt.style.use('seaborn-whitegrid')\n",
    "sns.set_context(\"notebook\", font_scale=1.2)\n",
    "\n",
    "# Create output directory\n",
    "os.makedirs('output', exist_ok=True)"
   ]
  },
  {
   "cell_type": "code",
   "execution_count": null,
   "metadata": {},
   "source": [
    "# Load the datasets\n",
    "print(\"Loading datasets...\")\n",
    "functionality_df = pd.read_csv('Functionality_475years.csv')\n",
    "efficiency_df = pd.read_csv('efficiency_results_all_bridges.csv')\n",
    "\n",
    "# Display the first few rows of each dataset\n",
    "print(\"\\nFunctionality dataset:\")\n",
    "display(functionality_df.head())\n",
    "\n",
    "print(\"\\nEfficiency dataset:\")\n",
    "display(efficiency_df.head())"
   ]
  },
  {
   "cell_type": "markdown",
   "metadata": {},
   "source": [
    "## 2. Data Preprocessing"
   ]
  },
  {
   "cell_type": "code",
   "execution_count": null,
   "metadata": {},
   "source": [
    "# Clean up the functionality column (remove % sign and convert to float)\n",
    "functionality_df['Functionality'] = functionality_df['Functionality'].str.rstrip('%').astype(float)\n",
    "\n",
    "# Rename IOP column to match with efficiency_df\n",
    "functionality_df = functionality_df.rename(columns={'IOP': 'Bridge IOP'})\n",
    "\n",
    "# Get unique buffer distances\n",
    "buffer_distances = sorted(efficiency_df['Buffer Distance (km)'].unique())\n",
    "print(f\"Found {len(buffer_distances)} unique buffer distances: {buffer_distances}\")\n",
    "\n",
    "# Get number of unique bridges\n",
    "unique_bridges_count = efficiency_df['Bridge IOP'].nunique()\n",
    "print(f\"Found {unique_bridges_count} unique bridges in efficiency dataset\")\n",
    "print(f\"Found {len(functionality_df)} bridges in functionality dataset\")"
   ]
  },
  {
   "cell_type": "markdown",
   "metadata": {},
   "source": [
    "## 3. Exploratory Data Analysis"
   ]
  },
  {
   "cell_type": "code",
   "execution_count": null,
   "metadata": {},
   "source": [
    "# Analyze functionality distribution\n",
    "plt.figure(figsize=(10, 6))\n",
    "sns.histplot(functionality_df['Functionality'], bins=20, kde=True)\n",
    "plt.xlabel('Functionality (%)')\n",
    "plt.ylabel('Number of Bridges')\n",
    "plt.title('Distribution of Bridge Functionality')\n",
    "plt.grid(True, linestyle='--', alpha=0.7)\n",
    "plt.savefig('output/functionality_distribution.png', dpi=300, bbox_inches='tight')\n",
    "plt.show()"
   ]
  },
  {
   "cell_type": "code",
   "execution_count": null,
   "metadata": {},
   "source": [
    "# Analyze efficiency change distribution for a specific buffer (e.g., 5km)\n",
    "buffer_5km = efficiency_df[efficiency_df['Buffer Distance (km)'] == 5]\n",
    "\n",
    "plt.figure(figsize=(10, 6))\n",
    "sns.histplot(buffer_5km['Change in Efficiency'].abs(), bins=20, kde=True)\n",
    "plt.xlabel('Absolute Change in Efficiency (5km Buffer)')\n",
    "plt.ylabel('Number of Bridges')\n",
    "plt.title('Distribution of Efficiency Change Magnitude (5km Buffer)')\n",
    "plt.grid(True, linestyle='--', alpha=0.7)\n",
    "plt.savefig('output/efficiency_change_distribution_5km.png', dpi=300, bbox_inches='tight')\n",
    "plt.show()"
   ]
  },
  {
   "cell_type": "markdown",
   "metadata": {},
   "source": [
    "## 4. Calculate Bridge Criticality Scores\n",
    "\n",
    "We'll calculate criticality scores for each bridge at each buffer distance using the following methodology:\n",
    "\n",
    "1. **Normalize Functionality**: Lower functionality = higher criticality\n",
    "2. **Normalize Efficiency Change**: Higher efficiency drop = higher criticality\n",
    "3. **Combine Scores**: Equal weighting of both metrics\n",
    "\n",
    "This approach gives us a comprehensive criticality score that considers both structural vulnerability and network importance."
   ]
  },
  {
   "cell_type": "code",
   "execution_count": null,
   "metadata": {},
   "source": [
    "# Create a dictionary to store results for each buffer distance\n",
    "results = {}\n",
    "all_criticality_scores = []\n",
    "\n",
    "# Process each buffer distance\n",
    "for buffer in buffer_distances:\n",
    "    print(f\"\\nProcessing buffer distance: {buffer} km\")\n",
    "    \n",
    "    # Filter efficiency data for current buffer\n",
    "    buffer_df = efficiency_df[efficiency_df['Buffer Distance (km)'] == buffer]\n",
    "    \n",
    "    # Merge with functionality data\n",
    "    merged_df = pd.merge(buffer_df, functionality_df[['Bridge IOP', 'Functionality']], \n",
    "                         on='Bridge IOP', how='inner')\n",
    "    \n",
    "    print(f\"Found {len(merged_df)} bridges with both functionality and efficiency data for buffer {buffer} km\")\n",
    "    \n",
    "    # Normalize efficiency change to positive values (absolute value)\n",
    "    merged_df['Normalized Efficiency Change'] = merged_df['Change in Efficiency'].abs()\n",
    "    \n",
    "    # Calculate criticality score (higher is more critical)\n",
    "    # Normalize both metrics to 0-1 range for fair combination\n",
    "    min_func = merged_df['Functionality'].min()\n",
    "    max_func = merged_df['Functionality'].max()\n",
    "    min_eff = merged_df['Normalized Efficiency Change'].min()\n",
    "    max_eff = merged_df['Normalized Efficiency Change'].max()\n",
    "    \n",
    "    # Normalize and invert functionality (lower functionality = higher criticality)\n",
    "    merged_df['Norm_Func'] = 1 - ((merged_df['Functionality'] - min_func) / (max_func - min_func))\n",
    "    \n",
    "    # Normalize efficiency change (higher change = higher criticality)\n",
    "    merged_df['Norm_Eff'] = (merged_df['Normalized Efficiency Change'] - min_eff) / (max_eff - min_eff)\n",
    "    \n",
    "    # Combined criticality score (0-1 range, higher is more critical)\n",
    "    merged_df['Criticality Score'] = (merged_df['Norm_Func'] + merged_df['Norm_Eff']) / 2\n",
    "    \n",
    "    # Add relative efficiency change (Change in Efficiency / Original Global Efficiency)\n",
    "    merged_df['Relative Efficiency Change'] = merged_df['Change in Efficiency'] / merged_df['Original Global Efficiency']\n",
    "    merged_df['Absolute Relative Efficiency Change'] = merged_df['Relative Efficiency Change'].abs()\n",
    "    \n",
    "    # Store results\n",
    "    results[buffer] = merged_df.copy()\n",
    "    \n",
    "    # Add buffer distance column and append to comprehensive dataframe\n",
    "    merged_df['Buffer Distance (km)'] = buffer\n",
    "    all_criticality_scores.append(merged_df)\n",
    "    \n",
    "    # Display the top 5 most critical bridges for this buffer\n",
    "    print(f\"Top 5 most critical bridges for buffer {buffer} km:\")\n",
    "    display(merged_df.sort_values('Criticality Score', ascending=False)[['Bridge IOP', 'Highway Type', 'Functionality', \n",
    "                                                                         'Normalized Efficiency Change', 'Criticality Score']].head(5))"
   ]
  },
  {
   "cell_type": "code",
   "execution_count": null,
   "metadata": {},
   "source": [
    "# Combine all buffer distances into a single dataframe\n",
    "all_scores_df = pd.concat(all_criticality_scores, ignore_index=True)\n",
    "\n",
    "# Save comprehensive file\n",
    "all_scores_df.to_csv('output/all_buffer_criticality_scores.csv', index=False)\n",
    "print(f\"Saved comprehensive criticality scores to output/all_buffer_criticality_scores.csv\")"
   ]
  },
  {
   "cell_type": "markdown",
   "metadata": {},
   "source": [
    "## 5. Identify Most Critical Bridges Across Buffer Distances"
   ]
  },
  {
   "cell_type": "code",
   "execution_count": null,
   "metadata": {},
   "source": [
    "# Create a summary of top 10 most critical bridges for each buffer\n",
    "summary_rows = []\n",
    "for buffer in buffer_distances:\n",
    "    buffer_scores = all_scores_df[all_scores_df['Buffer Distance (km)'] == buffer]\n",
    "    top_bridges = buffer_scores.sort_values('Criticality Score', ascending=False).head(10)\n",
    "    \n",
    "    for _, bridge in top_bridges.iterrows():\n",
    "        summary_rows.append({\n",
    "            'Buffer Distance (km)': buffer,\n",
    "            'Bridge IOP': bridge['Bridge IOP'],\n",
    "            'OSM ID': bridge['OSM ID'],\n",
    "            'Highway Type': bridge['Highway Type'],\n",
    "            'Functionality (%)': bridge['Functionality'],\n",
    "            'Criticality Score': bridge['Criticality Score'],\n",
    "            'Normalized Efficiency Change': bridge['Normalized Efficiency Change'],\n",
    "            'Absolute Relative Efficiency Change': bridge['Absolute Relative Efficiency Change']\n",
    "        })\n",
    "\n",
    "summary_df = pd.DataFrame(summary_rows)\n",
    "summary_file = 'output/top_critical_bridges_summary.csv'\n",
    "summary_df.to_csv(summary_file, index=False)\n",
    "print(f\"Saved summary of top critical bridges to {summary_file}\")\n",
    "\n",
    "# Display the first few rows of the summary\n",
    "display(summary_df.head(10))"
   ]
  },
  {
   "cell_type": "markdown",
   "metadata": {},
   "source": [
    "## 6. Analyze Bridge Criticality Patterns\n",
    "\n",
    "Let's analyze which bridges appear most frequently in the top 10 most critical bridges across different buffer distances."
   ]
  },
  {
   "cell_type": "code",
   "execution_count": null,
   "metadata": {},
   "source": [
    "# Count frequency of bridges in the top 10 most critical across buffer distances\n",
    "bridge_frequency = summary_df['Bridge IOP'].value_counts()\n",
    "\n",
    "# Display bridges that appear in multiple buffer distances\n",
    "frequent_bridges = bridge_frequency[bridge_frequency > 1]\n",
    "print(f\"Bridges appearing in top 10 most critical across multiple buffer distances:\")\n",
    "display(frequent_bridges)\n",
    "\n",
    "# Get details of the most frequent bridges\n",
    "if len(frequent_bridges) > 0:\n",
    "    most_frequent_bridge = frequent_bridges.index[0]\n",
    "    bridge_details = summary_df[summary_df['Bridge IOP'] == most_frequent_bridge]\n",
    "    print(f\"\\nDetails of most frequent critical bridge ({most_frequent_bridge}):\")\n",
    "    display(bridge_details)"
   ]
  },
  {
   "cell_type": "markdown",
   "metadata": {},
   "source": [
    "## 7. Visualize Bridge Criticality Across Buffer Distances\n",
    "\n",
    "Now we'll create visualizations to better understand the relationship between functionality, efficiency change, and criticality scores across different buffer distances."
   ]
  },
  {
   "cell_type": "code",
   "execution_count": null,
   "metadata": {},
   "source": [
    "# Create a figure with 11 subplots (one for each buffer distance)\n",
    "fig = plt.figure(figsize=(20, 15))\n",
    "from matplotlib import gridspec\n",
    "gs = gridspec.GridSpec(4, 3, figure=fig, wspace=0.3, hspace=0.4)\n",
    "\n",
    "# Create a custom colormap from green to red\n",
    "cmap = LinearSegmentedColormap.from_list('GreenToRed', ['green', 'yellow', 'red'])\n",
    "\n",
    "# Process each buffer distance\n",
    "for i, buffer in enumerate(buffer_distances):\n",
    "    # Calculate subplot position\n",
    "    row = i // 3\n",
    "    col = i % 3\n",
    "    \n",
    "    # Create subplot\n",
    "    ax = fig.add_subplot(gs[row, col])\n",
    "    \n",
    "    # Get data for current buffer\n",
    "    buffer_data = results[buffer]\n",
    "    \n",
    "    # Plot all bridges as small gray dots\n",
    "    ax.scatter(buffer_data['Functionality'], buffer_data['Normalized Efficiency Change'], \n",
    "               color='lightgray', alpha=0.5, s=20)\n",
    "    \n",
    "    # Get top 10 critical bridges for this buffer\n",
    "    top_bridges = buffer_data.sort_values('Criticality Score', ascending=False).head(10)\n",
    "    \n",
    "    # Plot critical bridges with color based on criticality\n",
    "    scatter = ax.scatter(top_bridges['Functionality'], \n",
    "                        top_bridges['Normalized Efficiency Change'],\n",
    "                        c=top_bridges['Criticality Score'], \n",
    "                        cmap=cmap, \n",
    "                        s=100, \n",
    "                        edgecolor='black', \n",
    "                        zorder=5)\n",
    "    \n",
    "    # Add labels for top 3 critical bridges\n",
    "    for _, bridge in top_bridges.head(3).iterrows():\n",
    "        ax.annotate(bridge['Bridge IOP'], \n",
    "                   (bridge['Functionality'], bridge['Normalized Efficiency Change']),\n",
    "                   xytext=(5, 5), \n",
    "                   textcoords='offset points', \n",
    "                   fontsize=8)\n",
    "    \n",
    "    # Set title and labels\n",
    "    ax.set_title(f'Buffer: {buffer} km', fontsize=12)\n",
    "    ax.set_xlabel('Functionality (%)', fontsize=10)\n",
    "    ax.set_ylabel('Normalized Efficiency Change', fontsize=10)\n",
    "    ax.grid(True, linestyle='--', alpha=0.7)\n",
    "    \n",
    "    # Set y-axis to start from 0\n",
    "    ax.set_ylim(bottom=0)\n",
    "\n",
    "# Add a colorbar for the criticality score\n",
    "if len(buffer_distances) < 12:  # Make sure we have space for the colorbar\n",
    "    cbar_ax = fig.add_subplot(gs[3, 2])\n",
    "    cbar = plt.colorbar(scatter, cax=cbar_ax, orientation='horizontal')\n",
    "    cbar.set_label('Criticality Score (Higher = More Critical)', fontsize=12)\n",
    "\n",
    "# Add an overall title\n",
    "fig.suptitle('Bridge Functionality vs Normalized Efficiency Change Across Buffer Distances\\nCritical Bridges Highlighted (Green to Red = Increasing Criticality)', \n",
    "             fontsize=16, y=0.98)\n",
    "\n",
    "# Save the figure\n",
    "plt.savefig('output/buffer_comparison_matrix.png', dpi=300, bbox_inches='tight')\n",
    "plt.show()"
   ]
  },
  {
   "cell_type": "markdown",
   "metadata": {},
   "source": [
    "## 8. Analyze Efficiency Impact Across Buffer Distances"
   ]
  },
  {
   "cell_type": "code",
   "execution_count": null,
   "metadata": {},
   "source": [
    "# Create a visualization showing how efficiency impact changes with buffer distance\n",
    "plt.figure(figsize=(12, 8))\n",
    "\n",
    "# Group by buffer distance and calculate mean values for reference\n",
    "buffer_means = efficiency_df.groupby('Buffer Distance (km)')['Change in Efficiency'].mean()\n",
    "buffer_distances_list = buffer_means.index.tolist()\n",
    "buffer_means_list = buffer_means.values.tolist()\n",
    "\n",
    "# Plot mean values as a reference line\n",
    "plt.plot(buffer_distances_list, [abs(x) for x in buffer_means_list], 'b--', label='Mean Efficiency Drop')\n",
    "\n",
    "# Get the most frequent critical bridges (appearing in at least 3 buffer distances)\n",
    "frequent_bridges = bridge_frequency[bridge_frequency >= 3].index.tolist()\n",
    "\n",
    "# Plot these bridges across buffer distances\n",
    "for bridge_iop in frequent_bridges[:5]:  # Limit to top 5 most frequent bridges\n",
    "    bridge_data = summary_df[summary_df['Bridge IOP'] == bridge_iop]\n",
    "    plt.plot(bridge_data['Buffer Distance (km)'], bridge_data['Normalized Efficiency Change'], 'o-', label=bridge_iop)\n",
    "\n",
    "plt.xlabel('Buffer Distance (km)')\n",
    "plt.ylabel('Normalized Efficiency Change')\n",
    "plt.title('Efficiency Impact of Critical Bridges Across Buffer Distances')\n",
    "plt.grid(True, linestyle='--', alpha=0.7)\n",
    "plt.legend()\n",
    "plt.savefig('output/efficiency_impact_across_distances.png', dpi=300, bbox_inches='tight')\n",
    "plt.show()"
   ]
  },
  {
   "cell_type": "markdown",
   "metadata": {},
   "source": [
    "## 9. Analyze Relationship Between Absolute and Relative Efficiency Change"
   ]
  },
  {
   "cell_type": "code",
   "execution_count": null,
   "metadata": {},
   "source": [
    "# For a specific buffer (e.g., 5km), compare absolute vs. relative efficiency change\n",
    "buffer_5km = results[5]\n",
    "\n",
    "plt.figure(figsize=(10, 6))\n",
    "plt.scatter(buffer_5km['Normalized Efficiency Change'], \n",
    "            buffer_5km['Absolute Relative Efficiency Change'], \n",
    "            alpha=0.6)\n",
    "\n",
    "# Highlight top 10 critical bridges\n",
    "top_bridges = buffer_5km.sort_values('Criticality Score', ascending=False).head(10)\n",
    "plt.scatter(top_bridges['Normalized Efficiency Change'], \n",
    "            top_bridges['Absolute Relative Efficiency Change'],\n",
    "            color='red', s=100, edgecolor='black', zorder=5)\n",
    "\n",
    "# Add labels for top 3 critical bridges\n",
    "for _, bridge in top_bridges.head(3).iterrows():\n",
    "    plt.annotate(bridge['Bridge IOP'], \n",
    "                (bridge['Normalized Efficiency Change'], bridge['Absolute Relative Efficiency Change']),\n",
    "                xytext=(5, 5), \n",
    "                textcoords='offset points')\n",
    "\n",
    "plt.xlabel('Absolute Efficiency Change')\n",
    "plt.ylabel('Relative Efficiency Change (|Change/Original|)')\n",
    "plt.title('Absolute vs. Relative Efficiency Change (5km Buffer)')\n",
    "plt.grid(True, linestyle='--', alpha=0.7)\n",
    "plt.savefig('output/absolute_vs_relative_efficiency.png', dpi=300, bbox_inches='tight')\n",
    "plt.show()"
   ]
  },
  {
   "cell_type": "markdown",
   "metadata": {},
   "source": [
    "## 10. Summary and Conclusions\n",
    "\n",
    "Based on our analysis, we can draw the following conclusions:\n",
    "\n",
    "1. **Critical Bridge Identification**: We've successfully identified bridges with both low functionality and high efficiency drop across different buffer distances.\n",
    "\n",
    "2. **Buffer Distance Impact**: The efficiency drop is most significant at smaller buffer distances (5-10km) and decreases as the buffer distance increases.\n",
    "\n",
    "3. **Consistent Critical Bridges**: Some bridges appear consistently critical across multiple buffer distances, indicating their importance at both local and regional scales.\n",
    "\n",
    "4. **Criticality Score Methodology**: Our combined criticality score effectively identifies bridges that are both structurally vulnerable and important for network connectivity.\n",
    "\n",
    "5. **Prioritization for Seismic Risk Management**: The identified critical bridges should be prioritized for seismic retrofitting and protection measures.\n",
    "\n",
    "This analysis demonstrates the value of combining structural vulnerability metrics (functionality) with network importance metrics (efficiency impact) to identify the most critical infrastructure elements requiring protection and priority repair after seismic events."
   ]
  }
 ],
 "metadata": {
  "kernelspec": {
   "display_name": "Python 3",
   "language": "python",
   "name": "python3"
  },
  "language_info": {
   "codemirror_mode": {
    "name": "ipython",
    "version": 3
   },
   "file_extension": ".py",
   "mimetype": "text/x-python",
   "name": "python",
   "nbconvert_exporter": "python",
   "pygments_lexer": "ipython3",
   "version": "3.8.10"
  }
 },
 "nbformat": 4,
 "nbformat_minor": 4
}
